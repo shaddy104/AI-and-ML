{
 "cells": [
  {
   "cell_type": "markdown",
   "metadata": {
    "colab_type": "text",
    "id": "h9464I-uxLiw"
   },
   "source": [
    "# Assignment"
   ]
  },
  {
   "cell_type": "markdown",
   "metadata": {
    "colab_type": "text",
    "id": "IvLvmewlxLix"
   },
   "source": [
    "<font face='georgia'>\n",
    "    \n",
    "   <h4><strong>What does tf-idf mean?</strong></h4>\n",
    "\n",
    "   <p>    \n",
    "Tf-idf stands for <em>term frequency-inverse document frequency</em>, and the tf-idf weight is a weight often used in information retrieval and text mining. This weight is a statistical measure used to evaluate how important a word is to a document in a collection or corpus. The importance increases proportionally to the number of times a word appears in the document but is offset by the frequency of the word in the corpus. Variations of the tf-idf weighting scheme are often used by search engines as a central tool in scoring and ranking a document's relevance given a user query.\n",
    "</p>\n",
    "    \n",
    "   <p>\n",
    "One of the simplest ranking functions is computed by summing the tf-idf for each query term; many more sophisticated ranking functions are variants of this simple model.\n",
    "</p>\n",
    "    \n",
    "   <p>\n",
    "Tf-idf can be successfully used for stop-words filtering in various subject fields including text summarization and classification.\n",
    "</p>\n",
    "    \n",
    "</font>"
   ]
  },
  {
   "cell_type": "markdown",
   "metadata": {
    "colab_type": "text",
    "id": "4XLaGFUMxLiy"
   },
   "source": [
    "<font face='georgia'>\n",
    "    <h4><strong>How to Compute:</strong></h4>\n",
    "\n",
    "Typically, the tf-idf weight is composed by two terms: the first computes the normalized Term Frequency (TF), aka. the number of times a word appears in a document, divided by the total number of words in that document; the second term is the Inverse Document Frequency (IDF), computed as the logarithm of the number of the documents in the corpus divided by the number of documents where the specific term appears.\n",
    "\n",
    " <ul>\n",
    "    <li>\n",
    "<strong>TF:</strong> Term Frequency, which measures how frequently a term occurs in a document. Since every document is different in length, it is possible that a term would appear much more times in long documents than shorter ones. Thus, the term frequency is often divided by the document length (aka. the total number of terms in the document) as a way of normalization: <br>\n",
    "\n",
    "$TF(t) = \\frac{\\text{Number of times term t appears in a document}}{\\text{Total number of terms in the document}}.$\n",
    "</li>\n",
    "<li>\n",
    "<strong>IDF:</strong> Inverse Document Frequency, which measures how important a term is. While computing TF, all terms are considered equally important. However it is known that certain terms, such as \"is\", \"of\", and \"that\", may appear a lot of times but have little importance. Thus we need to weigh down the frequent terms while scale up the rare ones, by computing the following: <br>\n",
    "\n",
    "$IDF(t) = \\log_{e}\\frac{\\text{Total  number of documents}} {\\text{Number of documents with term t in it}}.$\n",
    "for numerical stabiltiy we will be changing this formula little bit\n",
    "$IDF(t) = \\log_{e}\\frac{\\text{Total  number of documents}} {\\text{Number of documents with term t in it}+1}.$\n",
    "</li>\n",
    "</ul>\n",
    "\n",
    "<br>\n",
    "<h4><strong>Example</strong></h4>\n",
    "<p>\n",
    "\n",
    "Consider a document containing 100 words wherein the word cat appears 3 times. The term frequency (i.e., tf) for cat is then (3 / 100) = 0.03. Now, assume we have 10 million documents and the word cat appears in one thousand of these. Then, the inverse document frequency (i.e., idf) is calculated as log(10,000,000 / 1,000) = 4. Thus, the Tf-idf weight is the product of these quantities: 0.03 * 4 = 0.12.\n",
    "</p>\n",
    "</font>"
   ]
  },
  {
   "cell_type": "markdown",
   "metadata": {
    "colab_type": "text",
    "id": "dg2ooa4DxLiz"
   },
   "source": [
    "## Task-1"
   ]
  },
  {
   "cell_type": "markdown",
   "metadata": {
    "colab_type": "text",
    "id": "TAcTjhO8xLiz"
   },
   "source": [
    "<font face='georgia'>\n",
    "    <h4><strong>1. Build a TFIDF Vectorizer & compare its results with Sklearn:</strong></h4>\n",
    "\n",
    "<ul>\n",
    "    <li> As a part of this task you will be implementing TFIDF vectorizer on a collection of text documents.</li>\n",
    "    <br>\n",
    "    <li> You should compare the results of your own implementation of TFIDF vectorizer with that of sklearns implemenation TFIDF vectorizer.</li>\n",
    "    <br>\n",
    "    <li> Sklearn does few more tweaks in the implementation of its version of TFIDF vectorizer, so to replicate the exact results you would need to add following things to your custom implementation of tfidf vectorizer:\n",
    "       <ol>\n",
    "        <li> Sklearn has its vocabulary generated from idf sroted in alphabetical order</li>\n",
    "        <li> Sklearn formula of idf is different from the standard textbook formula. Here the constant <strong>\"1\"</strong> is added to the numerator and denominator of the idf as if an extra document was seen containing every term in the collection exactly once, which prevents zero divisions.\n",
    "            \n",
    " $IDF(t) = 1+\\log_{e}\\frac{1\\text{ }+\\text{ Total  number of documents in collection}} {1+\\text{Number of documents with term t in it}}.$\n",
    "        </li>\n",
    "        <li> Sklearn applies L2-normalization on its output matrix.</li>\n",
    "        <li> The final output of sklearn tfidf vectorizer is a sparse matrix.</li>\n",
    "    </ol>\n",
    "    <br>\n",
    "    <li>Steps to approach this task:\n",
    "    <ol>\n",
    "        <li> You would have to write both fit and transform methods for your custom implementation of tfidf vectorizer.</li>\n",
    "        <li> Print out the alphabetically sorted voacb after you fit your data and check if its the same as that of the feature names from sklearn tfidf vectorizer. </li>\n",
    "        <li> Print out the idf values from your implementation and check if its the same as that of sklearns tfidf vectorizer idf values. </li>\n",
    "        <li> Once you get your voacb and idf values to be same as that of sklearns implementation of tfidf vectorizer, proceed to the below steps. </li>\n",
    "        <li> Make sure the output of your implementation is a sparse matrix. Before generating the final output, you need to normalize your sparse matrix using L2 normalization. You can refer to this link https://scikit-learn.org/stable/modules/generated/sklearn.preprocessing.normalize.html </li>\n",
    "        <li> After completing the above steps, print the output of your custom implementation and compare it with sklearns implementation of tfidf vectorizer.</li>\n",
    "        <li> To check the output of a single document in your collection of documents,  you can convert the sparse matrix related only to that document into dense matrix and print it.</li>\n",
    "        </ol>\n",
    "    </li>\n",
    "    <br>\n",
    "   </ul>\n",
    "\n",
    "  <p> <font color=\"#e60000\"><strong>Note-1: </strong></font> All the necessary outputs of sklearns tfidf vectorizer have been provided as reference in this notebook, you can compare your outputs as mentioned in the above steps, with these outputs.<br>\n",
    "   <font color=\"#e60000\"><strong>Note-2: </strong></font> The output of your custom implementation and that of sklearns implementation would match only with the collection of document strings provided to you as reference in this notebook. It would not match for strings that contain capital letters or punctuations, etc, because sklearn version of tfidf vectorizer deals with such strings in a different way. To know further details about how sklearn tfidf vectorizer works with such string, you can always refer to its official documentation.<br>\n",
    "   <font color=\"#e60000\"><strong>Note-3: </strong></font> During this task, it would be helpful for you to debug the code you write with print statements wherever necessary. But when you are finally submitting the assignment, make sure your code is readable and try not to print things which are not part of this task.\n",
    "    </p>"
   ]
  },
  {
   "cell_type": "markdown",
   "metadata": {
    "colab_type": "text",
    "id": "OnV82tg1xLi0"
   },
   "source": [
    "### Corpus"
   ]
  },
  {
   "cell_type": "code",
   "execution_count": 1,
   "metadata": {
    "colab": {},
    "colab_type": "code",
    "id": "bUsYm9wjxLi1"
   },
   "outputs": [],
   "source": [
    "## SkLearn# Collection of string documents\n",
    "\n",
    "corpus = [\n",
    "     'this is the first document',\n",
    "     'this document is the second document',\n",
    "     'and this is the third one',\n",
    "     'is this the first document',\n",
    "]"
   ]
  },
  {
   "cell_type": "markdown",
   "metadata": {
    "colab_type": "text",
    "id": "eLwmFZfKxLi4"
   },
   "source": [
    "### SkLearn Implementation"
   ]
  },
  {
   "cell_type": "code",
   "execution_count": null,
   "metadata": {
    "colab": {},
    "colab_type": "code",
    "id": "Np4dfQOkxLi4"
   },
   "outputs": [],
   "source": [
    "from sklearn.feature_extraction.text import TfidfVectorizer\n",
    "vectorizer = TfidfVectorizer()\n",
    "vectorizer.fit(corpus)\n",
    "skl_output = vectorizer.transform(corpus)"
   ]
  },
  {
   "cell_type": "code",
   "execution_count": null,
   "metadata": {
    "colab": {},
    "colab_type": "code",
    "id": "-7Om8YpYxLi6",
    "outputId": "0a3bd0f5-4424-4400-944f-4482a80bd799"
   },
   "outputs": [
    {
     "name": "stdout",
     "output_type": "stream",
     "text": [
      "['and', 'document', 'first', 'is', 'one', 'second', 'the', 'third', 'this']\n"
     ]
    }
   ],
   "source": [
    "# sklearn feature names, they are sorted in alphabetic order by default.\n",
    "\n",
    "print(vectorizer.get_feature_names())"
   ]
  },
  {
   "cell_type": "code",
   "execution_count": null,
   "metadata": {
    "colab": {},
    "colab_type": "code",
    "id": "dTKplK96xLi-",
    "outputId": "53722fa2-6756-4aa0-f179-37b578bb6890"
   },
   "outputs": [
    {
     "name": "stdout",
     "output_type": "stream",
     "text": [
      "[1.91629073 1.22314355 1.51082562 1.         1.91629073 1.91629073\n",
      " 1.         1.91629073 1.        ]\n"
     ]
    }
   ],
   "source": [
    "# Here we will print the sklearn tfidf vectorizer idf values after applying the fit method\n",
    "# After using the fit function on the corpus the vocab has 9 words in it, and each has its idf value.\n",
    "\n",
    "print(vectorizer.idf_)"
   ]
  },
  {
   "cell_type": "code",
   "execution_count": null,
   "metadata": {
    "colab": {},
    "colab_type": "code",
    "id": "-CTiWHygxLjA",
    "outputId": "8d5a9cde-2c29-4afe-f7b4-1547e88dba4f"
   },
   "outputs": [
    {
     "data": {
      "text/plain": [
       "(4, 9)"
      ]
     },
     "execution_count": 5,
     "metadata": {
      "tags": []
     },
     "output_type": "execute_result"
    }
   ],
   "source": [
    "# shape of sklearn tfidf vectorizer output after applying transform method.\n",
    "\n",
    "skl_output.shape"
   ]
  },
  {
   "cell_type": "code",
   "execution_count": null,
   "metadata": {
    "colab": {},
    "colab_type": "code",
    "id": "bDKEpbA-xLjD",
    "outputId": "87dafd65-5313-443f-8c6e-1b05cc8c2543"
   },
   "outputs": [
    {
     "name": "stdout",
     "output_type": "stream",
     "text": [
      "  (0, 8)\t0.38408524091481483\n",
      "  (0, 6)\t0.38408524091481483\n",
      "  (0, 3)\t0.38408524091481483\n",
      "  (0, 2)\t0.5802858236844359\n",
      "  (0, 1)\t0.46979138557992045\n"
     ]
    }
   ],
   "source": [
    "# sklearn tfidf values for first line of the above corpus.\n",
    "# Here the output is a sparse matrix\n",
    "\n",
    "print(skl_output[0])"
   ]
  },
  {
   "cell_type": "code",
   "execution_count": null,
   "metadata": {
    "colab": {},
    "colab_type": "code",
    "id": "3QWo34hexLjF",
    "outputId": "cdc04e08-989f-4bdc-dd7f-f1c82a9f90be"
   },
   "outputs": [
    {
     "name": "stdout",
     "output_type": "stream",
     "text": [
      "[[0.         0.46979139 0.58028582 0.38408524 0.         0.\n",
      "  0.38408524 0.         0.38408524]]\n"
     ]
    }
   ],
   "source": [
    "# sklearn tfidf values for first line of the above corpus.\n",
    "# To understand the output better, here we are converting the sparse output matrix to dense matrix and printing it.\n",
    "# Notice that this output is normalized using L2 normalization. sklearn does this by default.\n",
    "\n",
    "print(skl_output[0].toarray())"
   ]
  },
  {
   "cell_type": "markdown",
   "metadata": {
    "colab_type": "text",
    "id": "qfIwx5LzxLjI"
   },
   "source": [
    "### Your custom implementation"
   ]
  },
  {
   "cell_type": "code",
   "execution_count": 95,
   "metadata": {
    "colab": {},
    "colab_type": "code",
    "id": "HjuCcJwXxLjJ"
   },
   "outputs": [
    {
     "name": "stderr",
     "output_type": "stream",
     "text": [
      "100%|████████████████████████████████████████████████████████████████████████████████████████████| 4/4 [00:00<?, ?it/s]"
     ]
    },
    {
     "name": "stdout",
     "output_type": "stream",
     "text": [
      "{'and': 0, 'document': 1, 'first': 2, 'is': 3, 'one': 4, 'second': 5, 'the': 6, 'third': 7, 'this': 8}\n",
      "{'and': 1.91629073, 'document': 1.22314355, 'first': 1.51082562, 'is': 1.0, 'one': 1.91629073, 'second': 1.91629073, 'the': 1.0, 'third': 1.91629073, 'this': 1.0}\n",
      "(4, 9)\n",
      "  (0, 1)\t0.46979138558088085\n",
      "  (0, 2)\t0.5802858228626505\n",
      "  (0, 3)\t0.3840852413282814\n",
      "  (0, 6)\t0.3840852413282814\n",
      "  (0, 8)\t0.3840852413282814\n",
      "[[0.         0.46979139 0.58028582 0.38408524 0.         0.\n",
      "  0.38408524 0.         0.38408524]]\n"
     ]
    },
    {
     "name": "stderr",
     "output_type": "stream",
     "text": [
      "\n"
     ]
    }
   ],
   "source": [
    "# Write your code here.\n",
    "# Make sure its well documented and readble with appropriate comments.\n",
    "# Compare your results with the above sklearn tfidf vectorizer\n",
    "# You are not supposed to use any other library apart from the ones given below\n",
    "\n",
    "from collections import Counter\n",
    "from tqdm import tqdm\n",
    "from scipy.sparse import csr_matrix\n",
    "import math\n",
    "import operator\n",
    "from sklearn.preprocessing import normalize\n",
    "import numpy\n",
    "\n",
    "def fit(corp):\n",
    "    unique_words = set()\n",
    "    \n",
    "    if isinstance(corp,(list,)):\n",
    "        for row in corp:\n",
    "            for word in row.split(' '):\n",
    "                if len(word)<2:\n",
    "                    continue\n",
    "                unique_words.add(word)\n",
    "        unique_words = sorted(list(unique_words))\n",
    "        vocab = {j:i for i,j in enumerate(unique_words)}\n",
    "        \n",
    "        return vocab\n",
    "    else:\n",
    "        print(\"you need to pass list of sentance\")\n",
    "\n",
    "def transform(corp, c, idf):\n",
    "    rows = []\n",
    "    column = []\n",
    "    value = []\n",
    "    \n",
    "    if isinstance(corp,(list,)):\n",
    "        for idx,row in enumerate(tqdm(corp)):\n",
    "            wrd_f = dict(Counter(row.split()))\n",
    "            for word,freq in wrd_f.items():\n",
    "                if len(word)<2:\n",
    "                    continue\n",
    "                col_in = c.get(word,-1)\n",
    "                \n",
    "                if col_in!=-1:\n",
    "                    tf = freq/float(len(corp[idx].split()))\n",
    "                    freq = tf*idf[word]\n",
    "                    rows.append(idx)\n",
    "                    column.append(col_in)\n",
    "                    value.append(freq)\n",
    "        sparse_matrix = csr_matrix((value, (rows,column)), shape=(len(corp),len(c)))\n",
    "        output =normalize(sparse_matrix, norm='l2', axis=1, copy=True, return_norm=False)\n",
    "        return output\n",
    "    else:\n",
    "        print(\"you need to pass list of strings\")\n",
    "\n",
    "def idf(corp, c):\n",
    "    n = 1+len(corp)\n",
    "    idf = {}\n",
    "    for word in c:\n",
    "        d = 1\n",
    "        for row in corp:\n",
    "            if word in row:\n",
    "                d+=1\n",
    "        idf[word]=round(1+math.log(n/d),8)\n",
    "        #(math.log((1+N)/(count+1)))+1\n",
    "    return idf\n",
    "\n",
    "c = fit(corpus)\n",
    "idf_val = idf(corpus,c)\n",
    "\n",
    "c_out = transform(corpus,c,idf_val)\n",
    "\n",
    "print(c)\n",
    "print(idf_val)\n",
    "print(c_out.shape)\n",
    "print(c_out[0])\n",
    "\n",
    "print(c_out[0].toarray())\n",
    "\n"
   ]
  },
  {
   "cell_type": "markdown",
   "metadata": {
    "colab_type": "text",
    "id": "MMxBmVZExLjK"
   },
   "source": [
    "## Task-2"
   ]
  },
  {
   "cell_type": "markdown",
   "metadata": {
    "colab_type": "text",
    "id": "51j_OtqAxLjL"
   },
   "source": [
    "<font face='georgia'>\n",
    "    <h4><strong>2. Implement max features functionality:</strong></h4>\n",
    "\n",
    "<ul>\n",
    "    <li> As a part of this task you have to modify your fit and transform functions so that your vocab will contain only 50 terms with top idf scores.</li>\n",
    "    <br>\n",
    "    <li>This task is similar to your previous task, just that here your vocabulary is limited to only top 50 features names based on their idf values. Basically your output will have exactly 50 columns and the number of rows will depend on the number of documents you have in your corpus.</li>\n",
    "    <br>\n",
    "    <li>Here you will be give a pickle file, with file name <strong>cleaned_strings</strong>. You would have to load the corpus from this file and use it as input to your tfidf vectorizer.</li>\n",
    "    <br>\n",
    "    <li>Steps to approach this task:\n",
    "    <ol>\n",
    "        <li> You would have to write both fit and transform methods for your custom implementation of tfidf vectorizer, just like in the previous task. Additionally, here you have to limit the number of features generated to 50 as described above.</li>\n",
    "        <li> Now sort your vocab based in descending order of idf values and print out the words in the sorted voacb after you fit your data. Here you should be getting only 50 terms in your vocab. And make sure to print idf values for each term in your vocab. </li>\n",
    "        <li> Make sure the output of your implementation is a sparse matrix. Before generating the final output, you need to normalize your sparse matrix using L2 normalization. You can refer to this link https://scikit-learn.org/stable/modules/generated/sklearn.preprocessing.normalize.html </li>\n",
    "        <li> Now check the output of a single document in your collection of documents,  you can convert the sparse matrix related only to that document into dense matrix and print it. And this dense matrix should contain 1 row and 50 columns. </li>\n",
    "        </ol>\n",
    "    </li>\n",
    "    <br>\n",
    "   </ul>"
   ]
  },
  {
   "cell_type": "code",
   "execution_count": 2,
   "metadata": {
    "colab": {},
    "colab_type": "code",
    "id": "NHxPLlwNxLjL",
    "outputId": "9abd8e08-0e24-4975-9a13-4d3636d60323"
   },
   "outputs": [
    {
     "name": "stdout",
     "output_type": "stream",
     "text": [
      "Number of documents in corpus =  746\n"
     ]
    }
   ],
   "source": [
    "# Below is the code to load the cleaned_strings pickle file provided\n",
    "# Here corpus is of list type\n",
    "\n",
    "import pickle\n",
    "with open('cleaned_strings', 'rb') as f:\n",
    "    corpus = pickle.load(f)\n",
    "    \n",
    "# printing the length of the corpus loaded\n",
    "print(\"Number of documents in corpus = \",len(corpus))"
   ]
  },
  {
   "cell_type": "code",
   "execution_count": null,
   "metadata": {
    "colab": {},
    "colab_type": "code",
    "id": "ZULfoOIdxLjQ"
   },
   "outputs": [],
   "source": [
    "# Write your code here.\n",
    "# Try not to hardcode any values.\n",
    "# Make sure its well documented and readble with appropriate comments."
   ]
  },
  {
   "cell_type": "code",
   "execution_count": 21,
   "metadata": {
    "colab": {},
    "colab_type": "code",
    "id": "1_DJnnR3xLjR"
   },
   "outputs": [
    {
     "name": "stdout",
     "output_type": "stream",
     "text": [
      "{'aailiyah': 0, 'abandoned': 1, 'ability': 2, 'abroad': 3, 'absolutely': 4, 'abstruse': 5, 'abysmal': 6, 'academy': 7, 'accents': 8, 'accessible': 9, 'acclaimed': 10, 'accolades': 11, 'accurate': 12, 'accurately': 13, 'accused': 14, 'achievement': 15, 'achille': 16, 'ackerman': 17, 'act': 18, 'acted': 19, 'acting': 20, 'action': 21, 'actions': 22, 'actor': 23, 'actors': 24, 'actress': 25, 'actresses': 26, 'actually': 27, 'adams': 28, 'adaptation': 29, 'add': 30, 'added': 31, 'addition': 32, 'admins': 33, 'admiration': 34, 'admitted': 35, 'adorable': 36, 'adrift': 37, 'adventure': 38, 'advise': 39, 'aerial': 40, 'aesthetically': 41, 'affected': 42, 'affleck': 43, 'afraid': 44, 'africa': 45, 'afternoon': 46, 'age': 47, 'aged': 48, 'ages': 49}\n",
      "_____________________\n",
      "{'aailiyah': 6.922918, 'abandoned': 6.922918, 'abroad': 6.922918, 'abstruse': 6.922918, 'academy': 6.922918, 'accents': 6.922918, 'accessible': 6.922918, 'acclaimed': 6.922918, 'accolades': 6.922918, 'accurately': 6.922918, 'achille': 6.922918, 'ackerman': 6.922918, 'adams': 6.922918, 'added': 6.922918, 'admins': 6.922918, 'admiration': 6.922918, 'admitted': 6.922918, 'adrift': 6.922918, 'adventure': 6.922918, 'aesthetically': 6.922918, 'affected': 6.922918, 'affleck': 6.922918, 'afternoon': 6.922918, 'abysmal': 6.5174529, 'accurate': 6.5174529, 'accused': 6.5174529, 'achievement': 6.5174529, 'adaptation': 6.5174529, 'advise': 6.5174529, 'afraid': 6.5174529, 'africa': 6.5174529, 'ability': 6.22977082, 'acted': 6.22977082, 'actions': 6.22977082, 'actresses': 6.22977082, 'addition': 6.22977082, 'aerial': 6.22977082, 'aged': 6.22977082, 'ages': 6.22977082, 'adorable': 6.00662727, 'add': 5.82430572, 'actress': 5.67015504, 'absolutely': 5.31348009, 'action': 5.21816991, 'actually': 5.21816991, 'actors': 4.67162621, 'actor': 4.28386067, 'age': 4.2148678, 'acting': 3.92718573, 'act': 2.69608426}\n"
     ]
    }
   ],
   "source": [
    "from collections import Counter\n",
    "from tqdm import tqdm\n",
    "from scipy.sparse import csr_matrix\n",
    "import math\n",
    "import operator\n",
    "from sklearn.preprocessing import normalize\n",
    "import numpy\n",
    "\n",
    "def fit(corp):\n",
    "    unique_words = set()\n",
    "    \n",
    "    if isinstance(corp,(list,)):\n",
    "        for row in corp:\n",
    "            for word in row.split(' '):\n",
    "                if len(word)<2:\n",
    "                    continue\n",
    "                unique_words.add(word)\n",
    "        unique_words = sorted(list(unique_words))\n",
    "        vocab = {j:i for i,j in enumerate(unique_words) if i<50}\n",
    "        \n",
    "        return vocab\n",
    "    else:\n",
    "        print(\"you need to pass list of sentance\")\n",
    "\n",
    "def transform(corp, c, idf):\n",
    "    rows = []\n",
    "    column = []\n",
    "    value = []\n",
    "    \n",
    "    if isinstance(corp,(list,)):\n",
    "        for idx,row in enumerate(tqdm(corp)):\n",
    "            wrd_f = dict(Counter(row.split()))\n",
    "            for word,freq in wrd_f.items():\n",
    "                if len(word)<2:\n",
    "                    continue\n",
    "                col_in = c.get(word,-1)\n",
    "                \n",
    "                if col_in!=-1:\n",
    "                    tf = freq/float(len(corp[idx].split()))\n",
    "                    freq = tf*idf[word]\n",
    "                    rows.append(idx)\n",
    "                    column.append(col_in)\n",
    "                    value.append(freq)\n",
    "        sparse_matrix = csr_matrix((value, (rows,column)), shape=(len(corp),len(c)))\n",
    "        output =normalize(sparse_matrix, norm='l2', axis=1, copy=True, return_norm=False)\n",
    "        return output\n",
    "    else:\n",
    "        print(\"you need to pass list of strings\")\n",
    "\n",
    "def idf(corp, c):\n",
    "    n = 1+len(corp)\n",
    "    idf = {}\n",
    "    for word in c:\n",
    "        d = 1\n",
    "        for row in corp:\n",
    "            if word in row:\n",
    "                d+=1\n",
    "        idf[word]=round(1+math.log(n/d),8)\n",
    "        #(math.log((1+N)/(count+1)))+1\n",
    "    return idf\n",
    "\n",
    "c = fit(corpus)\n",
    "idf_val = idf(corpus,c)\n",
    "idf_val = dict(sorted(idf_val.items(), key = lambda x: x[1], reverse = True))\n",
    "print(c)\n",
    "print(\"_____________________\")\n",
    "print(idf_val)"
   ]
  },
  {
   "cell_type": "code",
   "execution_count": null,
   "metadata": {},
   "outputs": [],
   "source": []
  }
 ],
 "metadata": {
  "colab": {
   "collapsed_sections": [],
   "name": "Assignment_3_Instructions.ipynb",
   "provenance": []
  },
  "kernelspec": {
   "display_name": "Python 3",
   "language": "python",
   "name": "python3"
  },
  "language_info": {
   "codemirror_mode": {
    "name": "ipython",
    "version": 3
   },
   "file_extension": ".py",
   "mimetype": "text/x-python",
   "name": "python",
   "nbconvert_exporter": "python",
   "pygments_lexer": "ipython3",
   "version": "3.8.5"
  }
 },
 "nbformat": 4,
 "nbformat_minor": 1
}
