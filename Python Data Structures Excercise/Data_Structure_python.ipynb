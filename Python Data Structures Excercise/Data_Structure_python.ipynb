{
 "cells": [
  {
   "cell_type": "markdown",
   "metadata": {},
   "source": [
    "# Exercise 1: Array DataStructure"
   ]
  },
  {
   "cell_type": "markdown",
   "metadata": {},
   "source": [
    "### 1. Let us say your expense for every month are listed below,\n",
    "    January - 2200\n",
    "    February - 2350\n",
    "    March - 2600\n",
    "    April - 2130\n",
    "    May - 2190\n",
    "\n",
    "#### Create a list to store these monthly expenses and using that find out,\n",
    "\n",
    "1. In Feb, how many dollars you spent extra compare to January?\n",
    "2. Find out your total expense in first quarter (first three months) of the year.\n",
    "3. Find out if you spent exactly 2000 dollars in any month\n",
    "4. June month just finished and your expense is 1980 dollar. Add this item to our monthly expense list\n",
    "5. You returned an item that you bought in a month of April and\n",
    "got a refund of 200$. Make a correction to your monthly expense list\n",
    "based on this\n"
   ]
  },
  {
   "cell_type": "code",
   "execution_count": 53,
   "metadata": {},
   "outputs": [
    {
     "name": "stdout",
     "output_type": "stream",
     "text": [
      "Dollars spent in feb compared to january is 150\n",
      "\n",
      "total expenses in first quarter of the year is 7150\n",
      "\n",
      "No month, I spent exactly 2000 dollars\n",
      "\n",
      "June month just finished and your expense is 1980 dollar\n",
      "[['January', 2200], ['February', 2350], ['March', 2600], ['April', 2130], ['May', 2190], ['June', 1980]]\n",
      "\n",
      "You returned an item that you bought in a month of April and got a refund of 200$\n",
      "[['January', 2200], ['February', 2350], ['March', 2600], ['April', 2330], ['May', 2190], ['June', 1980]]\n"
     ]
    }
   ],
   "source": [
    "A = [['January',2200],['February',2350],['March',2600],['April',2130],['May',2190]]\n",
    "Feb = Jan = exp = 0\n",
    "\n",
    "# In Feb, how many dollars you spent extra compare to January?\n",
    "for i in range(len(A)):\n",
    "    if A[i][0] == 'February':\n",
    "        Feb = A[i][1]\n",
    "    if A[i][0] == 'January':\n",
    "        Jan = A[i][1]\n",
    "print(\"Dollars spent in feb compared to january is {}\".format(Feb-Jan))\n",
    "print()\n",
    "\n",
    "# Find out your total expense in first quarter (first three months) of the year.\n",
    "for i in range(3):\n",
    "    exp+=A[i][1]\n",
    "print(\"total expenses in first quarter of the year is {}\".format(exp))\n",
    "print()\n",
    "\n",
    "#Find out if you spent exactly 2000 dollars in any month\n",
    "for i in range(len(A)):\n",
    "    s = A[i][0] if A[i][1] == 2000 else 'No month'\n",
    "print('{}, I spent exactly 2000 dollars'.format(s))\n",
    "print()\n",
    "\n",
    "#June month just finished and your expense is 1980 dollar. Add this item to our monthly expense list\n",
    "print('June month just finished and your expense is 1980 dollar')\n",
    "A.append(['June',1980])\n",
    "print(A)\n",
    "print()\n",
    "\n",
    "#You returned an item that you bought in a month of April and got a refund of 200$. Make a correction to your monthly expense list based on this\n",
    "for i in range(len(A)):\n",
    "    if A[i][0]=='April':\n",
    "        A[i][1]+=200\n",
    "print('You returned an item that you bought in a month of April and got a refund of 200$')\n",
    "print(A)"
   ]
  },
  {
   "cell_type": "markdown",
   "metadata": {},
   "source": [
    "### 2. You have a list of your favourite marvel super heros.\n",
    "\n",
    "heros=['spider man','thor','hulk','iron man','captain america']\n",
    "\n",
    "#### Using this find out,\n",
    "\n",
    "1. Length of the list\n",
    "2. Add 'black panther' at the end of this list\n",
    "3. You realize that you need to add 'black panther' after 'hulk',\n",
    "   so remove it from the list first and then add it after 'hulk'\n",
    "4. Now you don't like thor and hulk because they get angry easily :)\n",
    "   So you want to remove thor and hulk from list and replace them with doctor strange (because he is cool).\n",
    "   Do that with one line of code.\n",
    "5. Sort the heros list in alphabetical order (Hint. Use dir() functions to list down all functions available in list)"
   ]
  },
  {
   "cell_type": "code",
   "execution_count": 73,
   "metadata": {},
   "outputs": [
    {
     "name": "stdout",
     "output_type": "stream",
     "text": [
      "Length of the list is 5\n",
      "\n",
      "New List : ['spider man', 'thor', 'hulk', 'iron man', 'captain america', 'black panther']\n",
      "\n",
      "['spider man', 'thor', 'hulk', 'black panther', 'iron man', 'captain america']\n",
      "\n",
      "['spider man', 'doctor strange', 'black panther', 'iron man', 'captain america']\n",
      "\n",
      "Sorted list : ['black panther', 'captain america', 'doctor strange', 'iron man', 'spider man']\n"
     ]
    }
   ],
   "source": [
    "heros=['spider man','thor','hulk','iron man','captain america']\n",
    "\n",
    "# Length of the list\n",
    "print('Length of the list is {}'.format(len(heros)))\n",
    "print()\n",
    "\n",
    "# Add 'black panther' at the end of this list\n",
    "heros.append('black panther')\n",
    "print('New List : {}'.format(heros))\n",
    "print()\n",
    "\n",
    "# You realize that you need to add 'black panther' after 'hulk', so remove it from the list first and then add it after 'hulk'\n",
    "heros.remove('black panther')\n",
    "heros.insert(3,'black panther')\n",
    "print(heros)\n",
    "print()\n",
    "\n",
    "# Now you don't like thor and hulk because they get angry easily :) So you want to remove thor and hulk from list and replace them with doctor strange (because he is cool). Do that with one line of code.\n",
    "heros[1:3]= ['doctor strange']\n",
    "print(heros)\n",
    "print()\n",
    "\n",
    "# Sort the heros list in alphabetical order (Hint. Use dir() functions to list down all functions available in list)\n",
    "dir(heros)\n",
    "heros.sort()\n",
    "print('Sorted list : {}'.format(heros))"
   ]
  },
  {
   "cell_type": "markdown",
   "metadata": {},
   "source": [
    "### 3. Create a list of all odd numbers between 1 and a max number. Max number is something you need to take from a user using input() function"
   ]
  },
  {
   "cell_type": "code",
   "execution_count": 76,
   "metadata": {},
   "outputs": [
    {
     "name": "stdout",
     "output_type": "stream",
     "text": [
      "10\n",
      "[1, 3, 5, 7, 9]\n"
     ]
    }
   ],
   "source": [
    "n = int(input())\n",
    "lst = []\n",
    "for i in range(n):\n",
    "    if i%2 != 0:\n",
    "        lst.append(i)\n",
    "print(lst)"
   ]
  },
  {
   "cell_type": "code",
   "execution_count": null,
   "metadata": {},
   "outputs": [],
   "source": []
  }
 ],
 "metadata": {
  "kernelspec": {
   "display_name": "Python 3",
   "language": "python",
   "name": "python3"
  },
  "language_info": {
   "codemirror_mode": {
    "name": "ipython",
    "version": 3
   },
   "file_extension": ".py",
   "mimetype": "text/x-python",
   "name": "python",
   "nbconvert_exporter": "python",
   "pygments_lexer": "ipython3",
   "version": "3.8.5"
  }
 },
 "nbformat": 4,
 "nbformat_minor": 4
}
